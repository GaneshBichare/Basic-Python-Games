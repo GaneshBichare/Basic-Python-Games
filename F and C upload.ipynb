{
 "cells": [
  {
   "cell_type": "code",
   "execution_count": null,
   "id": "58da681e",
   "metadata": {},
   "outputs": [],
   "source": [
    "# Welcome to Fibonacci_Series\n",
    "print(\"Welcome to Fibonacci_Series\")\n",
    "\n",
    "# Get user input for the Fibonacci series\n",
    "user_input = int(input(\"Enter any number: \"))\n",
    "\n",
    "# Initialize variables for the Fibonacci series\n",
    "n1 = 0\n",
    "n2 = 1\n",
    "n3 = 0\n",
    "\n",
    "# Generate and print the Fibonacci series\n",
    "for i in range(user_input):\n",
    "    print(n3)\n",
    "    print(\"*\" * 20)\n",
    "\n",
    "    # Update variables for the next iteration\n",
    "    n1 = n2\n",
    "    n2 = n3\n",
    "    n3 = n1 + n2\n",
    "\n",
    "# Welcome to cubes\n",
    "print(\"Welcome to cubes\")\n",
    "print(\"*\" * 17)\n",
    "\n",
    "# Get user input for cube calculation\n",
    "user = int(input(\"Enter your number: \"))\n",
    "\n",
    "# Calculate and print the cube of numbers in reverse order\n",
    "for i in range(user, 0, -1):\n",
    "    a = i * i * i\n",
    "    print(\"Cube of\", i, \"is\", a)\n"
   ]
  }
 ],
 "metadata": {
  "kernelspec": {
   "display_name": "Python 3 (ipykernel)",
   "language": "python",
   "name": "python3"
  },
  "language_info": {
   "codemirror_mode": {
    "name": "ipython",
    "version": 3
   },
   "file_extension": ".py",
   "mimetype": "text/x-python",
   "name": "python",
   "nbconvert_exporter": "python",
   "pygments_lexer": "ipython3",
   "version": "3.11.5"
  }
 },
 "nbformat": 4,
 "nbformat_minor": 5
}
